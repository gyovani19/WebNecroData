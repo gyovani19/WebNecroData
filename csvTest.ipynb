{
  "nbformat": 4,
  "nbformat_minor": 0,
  "metadata": {
    "colab": {
      "provenance": []
    },
    "kernelspec": {
      "name": "python3",
      "display_name": "Python 3"
    },
    "language_info": {
      "name": "python"
    }
  },
  "cells": [
    {
      "cell_type": "code",
      "execution_count": 14,
      "metadata": {
        "id": "HWTF5cPe-zjO"
      },
      "outputs": [],
      "source": [
        "import pandas as pd\n",
        "from reportlab.lib.pagesizes import letter\n",
        "from reportlab.pdfgen import canvas\n",
        "from reportlab.lib.styles import getSampleStyleSheet\n",
        "from reportlab.platypus import SimpleDocTemplate, Paragraph, Spacer, Image\n",
        "import os"
      ]
    },
    {
      "cell_type": "code",
      "source": [
        "# Função para criar o texto descritivo de cada linha\n",
        "def criar_texto(vitima):\n",
        "    return f\"\"\"\n",
        "    Nome da Vítima: {vitima['Nome da Vitima']}\n",
        "    Idade: {vitima['Idade']}\n",
        "    Cor: {vitima['Cor']}\n",
        "    Profissão: {vitima['Profissão']}\n",
        "    Estado: {vitima['Estado']}\n",
        "    Histórico: {vitima['Historico']}\n",
        "    \"\"\"\n",
        "\n",
        "# Função para criar um PDF para cada vítima\n",
        "def criar_pdfs(csv_file, output_dir, imagem_path):\n",
        "    # Ler o arquivo CSV\n",
        "    df = pd.read_csv(csv_file)\n",
        "\n",
        "    # Estilos para o documento\n",
        "    styles = getSampleStyleSheet()\n",
        "    style_normal = styles['Normal']\n",
        "    style_title = styles['Title']\n",
        "\n",
        "    # Tamanho máximo permitido para a imagem\n",
        "    max_width = 100\n",
        "    max_height = 100\n",
        "\n",
        "    # Criar um PDF para cada linha no CSV\n",
        "    for index, row in df.iterrows():\n",
        "        # Definir o nome do arquivo PDF baseado no nome da vítima\n",
        "        nome_arquivo = f\"{output_dir}/{row['Nome da Vitima'].replace(' ', '_')}.pdf\"\n",
        "\n",
        "        # Cria o documento PDF\n",
        "        doc = SimpleDocTemplate(nome_arquivo, pagesize=letter)\n",
        "        story = []\n",
        "\n",
        "        # Adicionar a imagem centralizada\n",
        "        try:\n",
        "            img = Image(imagem_path)\n",
        "            img.hAlign = 'CENTER'\n",
        "\n",
        "            # Redimensionar a imagem se for maior que o tamanho máximo permitido\n",
        "            if img.imageWidth > max_width or img.imageHeight > max_height:\n",
        "                img.drawWidth = max_width\n",
        "                img.drawHeight = max_height * (img.imageHeight / img.imageWidth)\n",
        "            story.append(img)\n",
        "        except Exception as e:\n",
        "            print(f\"Erro ao adicionar imagem: {e}\")\n",
        "\n",
        "        story.append(Spacer(1, 12))\n",
        "\n",
        "        # Adicionar o título\n",
        "        story.append(Paragraph(\"Relatório da Vítima\", style_title))\n",
        "        story.append(Spacer(1, 12))\n",
        "\n",
        "        # Adicionar o texto descritivo da vítima\n",
        "        texto = f\"\"\"\n",
        "        Este documento contém informações detalhadas sobre a vítima. Abaixo estão os detalhes fornecidos:\n",
        "\n",
        "        <b>Nome da Vítima:</b> {row['Nome da Vitima']}\n",
        "        <b>Idade:</b> {row['Idade']}\n",
        "        <b>Cor:</b> {row['Cor']}\n",
        "        <b>Profissão:</b> {row['Profissão']}\n",
        "        <b>Estado:</b> {row['Estado']}\n",
        "        <b>Histórico:</b> {row['Historico']}\n",
        "        \"\"\"\n",
        "        story.append(Paragraph(texto, style_normal))\n",
        "\n",
        "        # Construir o documento PDF\n",
        "        doc.build(story)\n",
        "\n",
        "# Definir os caminhos do arquivo CSV, do diretório de saída e da imagem\n",
        "csv_file = '/content/drive/MyDrive/Dataset/output.csv'\n",
        "output_dir = '/content/drive/MyDrive/Dataset'\n",
        "imagem_path = '/content/drive/MyDrive/Dataset/hipotech.jpeg'\n",
        "\n",
        "# Criar PDFs separados para cada vítima\n",
        "criar_pdfs(csv_file, output_dir, imagem_path)"
      ],
      "metadata": {
        "id": "qGhLJKfC_kt_"
      },
      "execution_count": 18,
      "outputs": []
    }
  ]
}